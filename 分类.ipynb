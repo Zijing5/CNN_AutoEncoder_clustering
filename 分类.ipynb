{
 "cells": [
  {
   "cell_type": "code",
   "execution_count": 103,
   "metadata": {
    "collapsed": true
   },
   "outputs": [],
   "source": [
    "import pandas as pd\n",
    "import numpy as np\n",
    "import matplotlib.pyplot as plt\n",
    "import matplotlib.gridspec as gridspec\n",
    "from vmdpy import VMD\n",
    "from keras import Sequential\n",
    "from keras.layers import Conv2D, MaxPool2D,Input, UpSampling2D\n",
    "from keras import Model\n",
    "from scipy import stats\n",
    "from sklearn.model_selection import train_test_split\n",
    "from sklearn.preprocessing import StandardScaler,MinMaxScaler"
   ]
  },
  {
   "cell_type": "code",
   "execution_count": 104,
   "metadata": {
    "collapsed": true
   },
   "outputs": [],
   "source": [
    "# VMD分解\n",
    "# init = 1  #均匀分布初始化       \n",
    "def VMD_plot(plot,K=3, signal_name='norm', tau=0,alpha=2000, DC=0, init=1, tol=1e-7):\n",
    "    signal = data[signal_name]\n",
    "    (imf,imf_hat,omega)=VMD(signal, alpha, tau, K, DC, init, tol)\n",
    "    if plot==1:\n",
    "        # 展示原信号和各IMF\n",
    "        fig,axes = plt.subplots(nrows=K+1, ncols=1, figsize=(10,8))\n",
    "        axes[0].plot(signal)\n",
    "        axes[0].set_ylabel(signal_name)\n",
    "        for i in range(K):\n",
    "            axes[i+1].plot(imf[i])\n",
    "        plt.tight_layout()\n",
    "    if plot==2:\n",
    "        # 展示中心频率的迭代情况\n",
    "        for i in range(len(omega[0])):\n",
    "            plt.plot(omega[:,i],np.arange(len(omega)))\n",
    "            plt.scatter(omega[-1,i],len(omega))\n",
    "            plt.gca().invert_yaxis()\n",
    "        print(omega[-1])\n",
    "    return imf,imf_hat,omega\n",
    "\n",
    "\n",
    "# 一些测试函数\n",
    "# def data1d_window(imf_i, window = 100,stride = 15):\n",
    "#     '''\n",
    "#     imf是单变量的时序数据\n",
    "    \n",
    "#     '''\n",
    "#     data_ = []\n",
    "#     datao_=[]\n",
    "#     cnt = -1\n",
    "#     while True:\n",
    "#         cnt+=1\n",
    "#         if stride*cnt+window > len(imf_i)-1:\n",
    "#             break\n",
    "#         data_.append(imf_i[stride*cnt:stride*cnt+window])\n",
    "#     return np.array(data_)\n",
    "\n",
    "\n",
    "# def dataKd_window(imf, window = 100,stride = 15):\n",
    "#     data_=[]\n",
    "#     cnt = -1\n",
    "#     while True:\n",
    "#         cnt+=1\n",
    "#         if stride*cnt+window > len(imf[0])-1:\n",
    "#             break\n",
    "#         data_.append(imf[:,stride*cnt:stride*cnt+window])\n",
    "#     return np.array(data_)\n",
    "        \n",
    "        "
   ]
  },
  {
   "cell_type": "markdown",
   "metadata": {},
   "source": [
    "载入数据"
   ]
  },
  {
   "cell_type": "code",
   "execution_count": 105,
   "metadata": {},
   "outputs": [
    {
     "data": {
      "text/html": [
       "<div>\n",
       "<style scoped>\n",
       "    .dataframe tbody tr th:only-of-type {\n",
       "        vertical-align: middle;\n",
       "    }\n",
       "\n",
       "    .dataframe tbody tr th {\n",
       "        vertical-align: top;\n",
       "    }\n",
       "\n",
       "    .dataframe thead th {\n",
       "        text-align: right;\n",
       "    }\n",
       "</style>\n",
       "<table border=\"1\" class=\"dataframe\">\n",
       "  <thead>\n",
       "    <tr style=\"text-align: right;\">\n",
       "      <th></th>\n",
       "      <th>norm</th>\n",
       "      <th>T2</th>\n",
       "      <th>T3</th>\n",
       "      <th>T4</th>\n",
       "      <th>T5</th>\n",
       "    </tr>\n",
       "  </thead>\n",
       "  <tbody>\n",
       "    <tr>\n",
       "      <th>0</th>\n",
       "      <td>-0.0000</td>\n",
       "      <td>-0.0000</td>\n",
       "      <td>-0.0000</td>\n",
       "      <td>-0.0000</td>\n",
       "      <td>-0.0</td>\n",
       "    </tr>\n",
       "    <tr>\n",
       "      <th>1</th>\n",
       "      <td>-0.0000</td>\n",
       "      <td>-0.0000</td>\n",
       "      <td>-0.0000</td>\n",
       "      <td>-0.0000</td>\n",
       "      <td>-0.0</td>\n",
       "    </tr>\n",
       "    <tr>\n",
       "      <th>2</th>\n",
       "      <td>-0.0000</td>\n",
       "      <td>1.6854</td>\n",
       "      <td>-0.0000</td>\n",
       "      <td>-0.0000</td>\n",
       "      <td>-0.0</td>\n",
       "    </tr>\n",
       "    <tr>\n",
       "      <th>3</th>\n",
       "      <td>-0.0000</td>\n",
       "      <td>-6.7416</td>\n",
       "      <td>-0.0000</td>\n",
       "      <td>-0.0000</td>\n",
       "      <td>-0.0</td>\n",
       "    </tr>\n",
       "    <tr>\n",
       "      <th>4</th>\n",
       "      <td>-1.9048</td>\n",
       "      <td>2.2472</td>\n",
       "      <td>-0.0000</td>\n",
       "      <td>-0.0000</td>\n",
       "      <td>-0.0</td>\n",
       "    </tr>\n",
       "    <tr>\n",
       "      <th>...</th>\n",
       "      <td>...</td>\n",
       "      <td>...</td>\n",
       "      <td>...</td>\n",
       "      <td>...</td>\n",
       "      <td>...</td>\n",
       "    </tr>\n",
       "    <tr>\n",
       "      <th>2043</th>\n",
       "      <td>-4.7619</td>\n",
       "      <td>1.1236</td>\n",
       "      <td>2.6087</td>\n",
       "      <td>1.6484</td>\n",
       "      <td>-0.0</td>\n",
       "    </tr>\n",
       "    <tr>\n",
       "      <th>2044</th>\n",
       "      <td>-4.7619</td>\n",
       "      <td>0.5618</td>\n",
       "      <td>2.6087</td>\n",
       "      <td>1.6484</td>\n",
       "      <td>-0.0</td>\n",
       "    </tr>\n",
       "    <tr>\n",
       "      <th>2045</th>\n",
       "      <td>-4.7619</td>\n",
       "      <td>0.5618</td>\n",
       "      <td>2.6087</td>\n",
       "      <td>1.6484</td>\n",
       "      <td>-0.0</td>\n",
       "    </tr>\n",
       "    <tr>\n",
       "      <th>2046</th>\n",
       "      <td>-4.7619</td>\n",
       "      <td>0.5618</td>\n",
       "      <td>2.6087</td>\n",
       "      <td>1.6484</td>\n",
       "      <td>-0.0</td>\n",
       "    </tr>\n",
       "    <tr>\n",
       "      <th>2047</th>\n",
       "      <td>-4.7619</td>\n",
       "      <td>0.5618</td>\n",
       "      <td>2.6087</td>\n",
       "      <td>1.6484</td>\n",
       "      <td>-0.0</td>\n",
       "    </tr>\n",
       "  </tbody>\n",
       "</table>\n",
       "<p>2048 rows × 5 columns</p>\n",
       "</div>"
      ],
      "text/plain": [
       "        norm      T2      T3      T4   T5\n",
       "0    -0.0000 -0.0000 -0.0000 -0.0000 -0.0\n",
       "1    -0.0000 -0.0000 -0.0000 -0.0000 -0.0\n",
       "2    -0.0000  1.6854 -0.0000 -0.0000 -0.0\n",
       "3    -0.0000 -6.7416 -0.0000 -0.0000 -0.0\n",
       "4    -1.9048  2.2472 -0.0000 -0.0000 -0.0\n",
       "...      ...     ...     ...     ...  ...\n",
       "2043 -4.7619  1.1236  2.6087  1.6484 -0.0\n",
       "2044 -4.7619  0.5618  2.6087  1.6484 -0.0\n",
       "2045 -4.7619  0.5618  2.6087  1.6484 -0.0\n",
       "2046 -4.7619  0.5618  2.6087  1.6484 -0.0\n",
       "2047 -4.7619  0.5618  2.6087  1.6484 -0.0\n",
       "\n",
       "[2048 rows x 5 columns]"
      ]
     },
     "execution_count": 105,
     "metadata": {},
     "output_type": "execute_result"
    }
   ],
   "source": [
    "columns = ['norm','T2','T3','T4','T5']\n",
    "data = pd.DataFrame(columns = columns)\n",
    "for i in [1,2,3,4,5]:\n",
    "    path = 'E:\\\\2022_8_AbsignalRecog_VDM\\\\data\\\\T'+str(i)+'.csv'\n",
    "    data[columns[i-1]] = pd.read_csv(path)\n",
    "\n",
    "# 最后一位重复一次，凑2048个数据，比较规整，也有利于网络里池化等操作。    \n",
    "data.loc[2047] = data.loc[2046]\n",
    "data"
   ]
  },
  {
   "cell_type": "markdown",
   "metadata": {},
   "source": [
    "下面的函数将每一个数据构造成01二值图像\n",
    "\n",
    "目的是生成的特征图每个小方块的数值，可以理解成原图对应区域内数值为1的概率大小\n",
    "这样后续直接对特征图之间计算KL散度，比较符合KL散度的定义，可解释性强一些。。\n"
   ]
  },
  {
   "cell_type": "code",
   "execution_count": 107,
   "metadata": {
    "collapsed": true
   },
   "outputs": [],
   "source": [
    "# 归一化\n",
    "# 数据构建输入\n",
    "def construct_data(imf,k,plot,dataset=100,sample=0):\n",
    "    '''\n",
    "    归一化，增加噪声，并将数据构建成01图像输入\n",
    "    \n",
    "    '''\n",
    "    imf = ((2*(MinMaxScaler().fit_transform(imf.swapaxes(0,1)).swapaxes(0,1))-1)*255).astype(int) #映射到-255到255\n",
    "    size = imf[k].shape\n",
    "    imfk = imf[k].tolist()\n",
    "    imgk = imfk.copy()\n",
    "#     print(np.max(imfk),np.min(imfk),'是否是+-255')\n",
    "    train_Data = []\n",
    "    for i in range(dataset):\n",
    "        for cnt,x in enumerate(imgk):\n",
    "            if cnt!=0:\n",
    "                x += np.random.randint(low=-20,high=20) #最大幅值百分之8的噪声。\n",
    "                if x > 255:\n",
    "                    x=255\n",
    "                if x < -255:\n",
    "                    x=-255\n",
    "                \n",
    "            imgk[cnt] = [0]*512\n",
    "            if x <= 0:\n",
    "                imgk[cnt][x+255:256] = (1,)*(1-x)\n",
    "            if x >= 0:\n",
    "                imgk[cnt][256:x+257] = (1,)*(1+x)\n",
    "                \n",
    "#         print(np.array(imgk).shape)\n",
    "        imgk= np.array(imgk).swapaxes(0,1) # (nrows,ncols )\n",
    "        train_Data.append(imgk)\n",
    "        imgk = imfk.copy()\n",
    "        \n",
    "\n",
    "    train_Data = np.array(train_Data).reshape(100, 512, 2048, 1)\n",
    "    # np.abs(np.random.normal(loc=0,scale=1e-2,size=(3,4))) #增加噪声\n",
    "    print('train_Data.shape:',train_Data.shape) #(batch_size,nrows,ncols)\n",
    "    if plot==1:\n",
    "        fig = plt.figure(figsize=(8,3))\n",
    "        plt.imshow(train_Data[sample,:,:,0])\n",
    "    return train_Data"
   ]
  },
  {
   "cell_type": "code",
   "execution_count": null,
   "metadata": {
    "collapsed": true
   },
   "outputs": [],
   "source": [
    "imf1,imf_hat1,omega1 = VMD_plot(3,signal_name='norm')\n",
    "imf1 = imf1.tolist()\n",
    "imf1.append(data['norm'])\n",
    "imf1 = np.array(imf1,dtype=object)\n",
    "imf1.shape"
   ]
  },
  {
   "cell_type": "code",
   "execution_count": 108,
   "metadata": {},
   "outputs": [
    {
     "name": "stdout",
     "output_type": "stream",
     "text": [
      "train_Data.shape: (100, 512, 2048, 1)\n"
     ]
    },
    {
     "data": {
      "image/png": "[encoded data removed]",
      "text/plain": [
       "<Figure size 576x216 with 1 Axes>"
      ]
     },
     "metadata": {
      "needs_background": "light"
     },
     "output_type": "display_data"
    }
   ],
   "source": [
    "train_Data = construct_data(imf1,3,1,sample=1)  #画出某个添加了噪声的样本"
   ]
  },
  {
   "cell_type": "code",
   "execution_count": 109,
   "metadata": {},
   "outputs": [
    {
     "data": {
      "text/plain": [
       "(80, 512, 2048, 1)"
      ]
     },
     "execution_count": 109,
     "metadata": {},
     "output_type": "execute_result"
    }
   ],
   "source": [
    "x_train, x_test, y_train, y_test = train_test_split(train_Data , train_Data,\\\n",
    "                                                    random_state = 36, test_size = 0.2, shuffle = False)\n",
    "x_train.shape"
   ]
  },
  {
   "cell_type": "code",
   "execution_count": 110,
   "metadata": {},
   "outputs": [
    {
     "name": "stdout",
     "output_type": "stream",
     "text": [
      "Model: \"model_9\"\n",
      "_________________________________________________________________\n",
      "Layer (type)                 Output Shape              Param #   \n",
      "=================================================================\n",
      "input (InputLayer)           (None, 512, 2048, 1)      0         \n",
      "_________________________________________________________________\n",
      "conv1 (Conv2D)               (None, 512, 2048, 6)      60        \n",
      "_________________________________________________________________\n",
      "ups1 (MaxPooling2D)          (None, 128, 512, 6)       0         \n",
      "_________________________________________________________________\n",
      "conv2 (Conv2D)               (None, 128, 512, 3)       165       \n",
      "_________________________________________________________________\n",
      "ups2 (MaxPooling2D)          (None, 32, 128, 3)        0         \n",
      "_________________________________________________________________\n",
      "conv3 (Conv2D)               (None, 32, 128, 1)        28        \n",
      "_________________________________________________________________\n",
      "op_encode (MaxPooling2D)     (None, 4, 32, 1)          0         \n",
      "_________________________________________________________________\n",
      "conv4 (Conv2D)               (None, 4, 32, 1)          10        \n",
      "_________________________________________________________________\n",
      "ups3 (UpSampling2D)          (None, 32, 128, 1)        0         \n",
      "_________________________________________________________________\n",
      "conv5 (Conv2D)               (None, 32, 128, 3)        30        \n",
      "_________________________________________________________________\n",
      "ups4 (UpSampling2D)          (None, 128, 512, 3)       0         \n",
      "_________________________________________________________________\n",
      "conv6 (Conv2D)               (None, 128, 512, 6)       168       \n",
      "_________________________________________________________________\n",
      "ups5 (UpSampling2D)          (None, 512, 2048, 6)      0         \n",
      "_________________________________________________________________\n",
      "op_decode (Conv2D)           (None, 512, 2048, 1)      55        \n",
      "=================================================================\n",
      "Total params: 516\n",
      "Trainable params: 516\n",
      "Non-trainable params: 0\n",
      "_________________________________________________________________\n"
     ]
    }
   ],
   "source": [
    "# 模型构建\n",
    "\n",
    "hidden_layer = 16\n",
    "encode_dim = 8\n",
    "\n",
    "CHANNEL_1 = 6\n",
    "CHANNEL_2 = 3\n",
    "CHANNEL_3 = 1\n",
    "CHANNEL_OUTPUT = train_Data.shape[3]\n",
    "\n",
    "data_format = 'channels_last' #'channels_first'\n",
    "\n",
    "\n",
    "input_image = Input(shape=(train_Data.shape[1],train_Data.shape[2],train_Data.shape[3]),name='input') # data_format\n",
    "x = Conv2D(CHANNEL_1, (3, 3), activation='relu', padding=\"same\", data_format=data_format,name='conv1')(input_image)\n",
    "x = MaxPool2D((4, 4), padding='same', data_format=data_format,name='ups1')(x)\n",
    "x = Conv2D(CHANNEL_2, (3, 3), activation='relu', padding=\"same\", data_format=data_format,name='conv2')(x)\n",
    "x = MaxPool2D((4, 4), padding='same', data_format=data_format,name='ups2')(x)\n",
    "x = Conv2D(CHANNEL_3, (3, 3), activation='relu', padding=\"same\", data_format=data_format,name='conv3')(x)\n",
    "encoded = MaxPool2D((8, 4), padding='same', data_format=data_format,name='op_encode')(x)\n",
    "\n",
    "x = Conv2D(CHANNEL_3, (3, 3), activation='relu', padding='same',data_format=data_format,name='conv4')(encoded)\n",
    "x = UpSampling2D((8, 4), data_format=data_format,name='ups3')(x)\n",
    "x = Conv2D(CHANNEL_2, (3, 3), activation='relu', padding='same',data_format=data_format,name='conv5')(x)\n",
    "x = UpSampling2D((4, 4), data_format=data_format,name='ups4')(x)\n",
    "x = Conv2D(CHANNEL_1, (3, 3), activation='relu', padding='same',data_format=data_format,name='conv6')(x)\n",
    "x = UpSampling2D((4, 4), data_format=data_format,name='ups5')(x)\n",
    "decoded = Conv2D(CHANNEL_OUTPUT, (3, 3), activation='sigmoid', padding='same', data_format=data_format,name='op_decode')(x)\n",
    "\n",
    "# build autoencoder, encoder, decoder\n",
    "autoencoder0 = Model(inputs=input_image, outputs=decoded)\n",
    "encoder0 = Model(inputs=input_image, outputs=autoencoder0.get_layer('op_encode').output)\n",
    "\n",
    "autoencoder1 = Model(inputs=input_image, outputs=decoded)\n",
    "encoder1 = Model(inputs=input_image, outputs=autoencoder1.get_layer('op_encode').output)\n",
    "\n",
    "autoencoder2 = Model(inputs=input_image, outputs=decoded)\n",
    "encoder2 = Model(inputs=input_image, outputs=autoencoder2.get_layer('op_encode').output)\n",
    "\n",
    "autoencoder3 = Model(inputs=input_image, outputs=decoded)\n",
    "encoder3 = Model(inputs=input_image, outputs=autoencoder3.get_layer('op_encode').output)\n",
    "\n",
    "\n",
    "# 对 K+1 四个维度(分别是IMF1,IMF2,IMF3,原始信号)的图像分别训练编码器\n",
    "autoencoder0.compile(optimizer='adam', loss='mse') #'binary_crossentropy'\n",
    "autoencoder1.compile(optimizer='adam', loss='mse')\n",
    "autoencoder2.compile(optimizer='adam', loss='mse')\n",
    "autoencoder3.compile(optimizer='adam', loss='mse')\n",
    "\n",
    "autoencoder0.summary()"
   ]
  },
  {
   "cell_type": "code",
   "execution_count": 112,
   "metadata": {},
   "outputs": [
    {
     "name": "stdout",
     "output_type": "stream",
     "text": [
      "[[-2.1404513428916117 -2.188227007579603 -2.2778125324084257 ...\n",
      "  -4.673162717148296 -4.676855758807861 -4.678917953335012]\n",
      " [-0.2881643548091263 0.08417278085309915 0.4290421904326071 ...\n",
      "  -0.044386179108120594 -0.00919839724314548 0.032732859053469066]\n",
      " [-0.2974312585885195 0.3322897013816533 -0.3483984911142345 ...\n",
      "  0.29786110255844905 -0.295532023271603 0.2925727039917262]\n",
      " [-0.0 -0.0 -0.0 ... -4.7619 -4.7619 -4.7619]]\n",
      "imf_shape (4, 2048)\n",
      "train_Data.shape: (100, 512, 2048, 1)\n",
      "train_Data.shape: (100, 512, 2048, 1)\n",
      "train_Data.shape: (100, 512, 2048, 1)\n",
      "train_Data.shape: (100, 512, 2048, 1)\n",
      "train_Data.shape: (4, 100, 512, 2048, 1)\n"
     ]
    },
    {
     "data": {
      "text/plain": [
       "(4, 100, 512, 2048, 1)"
      ]
     },
     "execution_count": 112,
     "metadata": {},
     "output_type": "execute_result"
    }
   ],
   "source": [
    "def batch_construct(name='norm'):  \n",
    "    imf,imf_hat,omega= VMD_plot(3,signal_name=name)\n",
    "    imf = imf.tolist()\n",
    "    imf.append(data[name])\n",
    "    imf = np.array(imf,dtype=object)\n",
    "    print(imf)\n",
    "    print('imf_shape',imf.shape)\n",
    "    train_Data=[]\n",
    "    for i in range(4):\n",
    "        train_Data.append(construct_data(imf,i,0))\n",
    "    train_Data = np.array(train_Data)\n",
    "    print('train_Data.shape:',train_Data.shape)\n",
    "    return train_Data\n",
    "\n",
    "train_Data1 = batch_construct(name='norm') #每个维度分别是： K+1，样本数目，图像高，图像长，图像通道数\n",
    "train_Data1.shape"
   ]
  },
  {
   "cell_type": "code",
   "execution_count": 113,
   "metadata": {
    "collapsed": true
   },
   "outputs": [
    {
     "data": {
      "text/plain": [
       "<matplotlib.image.AxesImage at 0x178e8d3d198>"
      ]
     },
     "execution_count": 113,
     "metadata": {},
     "output_type": "execute_result"
    },
    {
     "data": {
      "image/png": "[encoded data removed]",
      "text/plain": [
       "<Figure size 360x360 with 1 Axes>"
      ]
     },
     "metadata": {
      "needs_background": "light"
     },
     "output_type": "display_data"
    },
    {
     "data": {
      "image/png": "[encoded data removed]",
      "text/plain": [
       "<Figure size 360x360 with 1 Axes>"
      ]
     },
     "metadata": {
      "needs_background": "light"
     },
     "output_type": "display_data"
    },
    {
     "data": {
      "image/png": "[encoded data removed]",
      "text/plain": [
       "<Figure size 360x360 with 1 Axes>"
      ]
     },
     "metadata": {
      "needs_background": "light"
     },
     "output_type": "display_data"
    },
    {
     "data": {
      "image/png": "[encoded data removed]",
      "text/plain": [
       "<Figure size 360x360 with 1 Axes>"
      ]
     },
     "metadata": {
      "needs_background": "light"
     },
     "output_type": "display_data"
    }
   ],
   "source": [
    "# 展示二值图像\n",
    "plt.figure(figsize=(5,5))\n",
    "plt.imshow(train_Data1[0][0,:,:,0]) #IMF1 \n",
    "plt.figure(figsize=(5,5))\n",
    "plt.imshow(train_Data1[1][0,:,:,0]) #IMF2\n",
    "plt.figure(figsize=(5,5))\n",
    "plt.imshow(train_Data1[2][0,:,:,0]) #IMF3\n",
    "plt.figure(figsize=(5,5))\n",
    "plt.imshow(train_Data1[3][0,:,:,0]) #Original Signal"
   ]
  },
  {
   "cell_type": "markdown",
   "metadata": {},
   "source": [
    "用T1，共100个样本，在IMF1,IMF2,IMF3和原始信号四个维度训练四个自编码器\n",
    "\n",
    "这四个维度如果训练一个编码器效果一致不太好，迭代也比较慢"
   ]
  },
  {
   "cell_type": "code",
   "execution_count": 116,
   "metadata": {},
   "outputs": [
    {
     "name": "stdout",
     "output_type": "stream",
     "text": [
      "x_trainshape: (80, 512, 2048, 1)\n",
      "Train on 80 samples, validate on 20 samples\n",
      "Epoch 1/2\n",
      "80/80 [==============================] - 36s 447ms/step - loss: 0.1060 - val_loss: 0.1025\n",
      "Epoch 2/2\n",
      "80/80 [==============================] - 38s 469ms/step - loss: 0.0991 - val_loss: 0.0954\n",
      "Train on 80 samples, validate on 20 samples\n",
      "Epoch 1/2\n",
      "80/80 [==============================] - 38s 469ms/step - loss: 0.0510 - val_loss: 0.0462\n",
      "Epoch 2/2\n",
      "80/80 [==============================] - 37s 467ms/step - loss: 0.0438 - val_loss: 0.0406\n",
      "Train on 80 samples, validate on 20 samples\n",
      "Epoch 1/2\n",
      "80/80 [==============================] - 38s 475ms/step - loss: 0.0412 - val_loss: 0.0402\n",
      "Epoch 2/2\n",
      "80/80 [==============================] - 37s 469ms/step - loss: 0.0399 - val_loss: 0.0394\n",
      "Train on 80 samples, validate on 20 samples\n",
      "Epoch 1/2\n",
      "80/80 [==============================] - 38s 477ms/step - loss: 0.0406 - val_loss: 0.0402\n",
      "Epoch 2/2\n",
      "80/80 [==============================] - 39s 482ms/step - loss: 0.0400 - val_loss: 0.0398\n"
     ]
    },
    {
     "data": {
      "text/plain": [
       "<keras.callbacks.History at 0x178e5d512e8>"
      ]
     },
     "execution_count": 116,
     "metadata": {},
     "output_type": "execute_result"
    }
   ],
   "source": [
    "Epoch = 6 \n",
    "Batch_size = 16\n",
    "\n",
    "datain = train_Data1[0].reshape(train_Data1.shape[1],train_Data1.shape[2],train_Data1.shape[3],1)\n",
    "x_train, x_test, y_train, y_test = train_test_split(datain ,datain,\\\n",
    "                                                    random_state = 36, test_size = 0.2, shuffle = False)\n",
    "print('x_trainshape:',x_train.shape)\n",
    "autoencoder0.fit(x_train,y_train,\n",
    "                epochs=Epoch,\n",
    "                batch_size=Batch_size,\n",
    "                validation_data=(x_test, y_test))\n",
    "\n",
    "\n",
    "datain = train_Data1[1].reshape(train_Data1.shape[1],train_Data1.shape[2],train_Data1.shape[3],1)\n",
    "x_train, x_test, y_train, y_test = train_test_split(datain ,datain,\\\n",
    "                                                    random_state = 36, test_size = 0.2, shuffle = False)\n",
    "autoencoder1.fit(x_train,y_train,\n",
    "                epochs=Epoch,\n",
    "                batch_size=Batch_size,\n",
    "                validation_data=(x_test, y_test))\n",
    "\n",
    "\n",
    "datain = train_Data1[2].reshape(train_Data1.shape[1],train_Data1.shape[2],train_Data1.shape[3],1)\n",
    "x_train, x_test, y_train, y_test = train_test_split(datain ,datain,\\\n",
    "                                                    random_state = 36, test_size = 0.2, shuffle = False)\n",
    "autoencoder2.fit(x_train,y_train,\n",
    "                epochs=Epoch,\n",
    "                batch_size=Batch_size,\n",
    "                validation_data=(x_test, y_test))\n",
    "\n",
    "\n",
    "datain = train_Data1[3].reshape(train_Data1.shape[1],train_Data1.shape[2],train_Data1.shape[3],1)\n",
    "x_train, x_test, y_train, y_test = train_test_split(datain ,datain,\\\n",
    "                                                    random_state = 36, test_size = 0.2, shuffle = False)\n",
    "autoencoder3.fit(x_train,y_train,\n",
    "                epochs=Epoch,\n",
    "                batch_size=Batch_size,\n",
    "                validation_data=(x_test, y_test))"
   ]
  },
  {
   "cell_type": "markdown",
   "metadata": {
    "collapsed": true
   },
   "source": [
    "观察一下autoencoder 在故障组的正确率，以T2为例"
   ]
  },
  {
   "cell_type": "code",
   "execution_count": 118,
   "metadata": {},
   "outputs": [
    {
     "name": "stdout",
     "output_type": "stream",
     "text": [
      "[[-0.358285532471214 -0.3505229815218607 -0.34001708531084596 ...\n",
      "  0.5417167138883865 0.5367437860886213 0.5382331568365444]\n",
      " [-0.2988930213209048 0.4197194713441982 0.24950331674681286 ...\n",
      "  0.15755367666956507 0.03844862063633858 -0.10083280901707123]\n",
      " [0.8938355949347379 -1.3507116926769547 1.809613639212217 ...\n",
      "  -1.5053979497315904 1.1598941163340828 -0.8261716224896835]\n",
      " [-0.0 -0.0 1.6854 ... 0.5618 0.5618 0.5618]]\n",
      "imf_shape (4, 2048)\n",
      "train_Data.shape: (100, 512, 2048, 1)\n",
      "train_Data.shape: (100, 512, 2048, 1)\n",
      "train_Data.shape: (100, 512, 2048, 1)\n",
      "train_Data.shape: (100, 512, 2048, 1)\n",
      "train_Data.shape: (4, 100, 512, 2048, 1)\n",
      "(100, 512, 2048, 1)\n",
      "(100, 512, 2048, 1)\n",
      "(100, 512, 2048, 1)\n",
      "(100, 512, 2048, 1)\n",
      "loss分别为: [0.03679159619547004, 0.03384933554693528, 0.035283462424668614, 0.03490889011352695]\n"
     ]
    }
   ],
   "source": [
    "train_Data2 = batch_construct(name='T2')\n",
    "his=[]\n",
    "ae = [autoencoder0,autoencoder1,autoencoder2,autoencoder3]\n",
    "for i in range(4):\n",
    "    his_ = []\n",
    "    testcode = ae[i].predict(train_Data2[i].reshape(train_Data2.shape[1],train_Data2.shape[2],train_Data2.shape[3],1))\n",
    "    print(testcode.shape)\n",
    "    for bs in range(len(train_Data2[0])): #sample_num,x,x,1\n",
    "        his_.append(np.mean((testcode[bs]-train_Data2[1][bs])**2))\n",
    "    his.append(np.mean(his_))\n",
    "print('loss分别为:',his)"
   ]
  },
  {
   "cell_type": "markdown",
   "metadata": {},
   "source": [
    "效果还可以"
   ]
  },
  {
   "cell_type": "markdown",
   "metadata": {},
   "source": [
    "继续观察一些 编码后的图像"
   ]
  },
  {
   "cell_type": "code",
   "execution_count": 125,
   "metadata": {},
   "outputs": [
    {
     "name": "stdout",
     "output_type": "stream",
     "text": [
      "[[-2.1404513428916117 -2.188227007579603 -2.2778125324084257 ...\n",
      "  -4.673162717148296 -4.676855758807861 -4.678917953335012]\n",
      " [-0.2881643548091263 0.08417278085309915 0.4290421904326071 ...\n",
      "  -0.044386179108120594 -0.00919839724314548 0.032732859053469066]\n",
      " [-0.2974312585885195 0.3322897013816533 -0.3483984911142345 ...\n",
      "  0.29786110255844905 -0.295532023271603 0.2925727039917262]\n",
      " [-0.0 -0.0 -0.0 ... -4.7619 -4.7619 -4.7619]]\n",
      "imf_shape (4, 2048)\n",
      "train_Data.shape: (100, 512, 2048, 1)\n",
      "train_Data.shape: (100, 512, 2048, 1)\n",
      "train_Data.shape: (100, 512, 2048, 1)\n",
      "train_Data.shape: (100, 512, 2048, 1)\n",
      "train_Data.shape: (4, 100, 512, 2048, 1)\n"
     ]
    },
    {
     "data": {
      "text/plain": [
       "<matplotlib.image.AxesImage at 0x178dc7244e0>"
      ]
     },
     "execution_count": 125,
     "metadata": {},
     "output_type": "execute_result"
    },
    {
     "data": {
      "image/png": "[encoded data removed]",
      "text/plain": [
       "<Figure size 576x216 with 1 Axes>"
      ]
     },
     "metadata": {
      "needs_background": "light"
     },
     "output_type": "display_data"
    },
    {
     "data": {
      "image/png": "[encoded data removed]",
      "text/plain": [
       "<Figure size 576x216 with 1 Axes>"
      ]
     },
     "metadata": {
      "needs_background": "light"
     },
     "output_type": "display_data"
    }
   ],
   "source": [
    "train_Data1 = batch_construct(name='norm')\n",
    "img10_code = encoder0.predict(train_Data1[0].reshape(train_Data1.shape[1],train_Data1.shape[2],train_Data1.shape[3],1))\n",
    "fig = plt.figure(figsize=(8,3))\n",
    "plt.imshow(img10_code[0,:,:,0])\n",
    "\n",
    "img11_code = encoder0.predict(train_Data1[1].reshape(train_Data1.shape[1],train_Data1.shape[2],train_Data1.shape[3],1))\n",
    "fig = plt.figure(figsize=(8,3))\n",
    "plt.imshow(img11_code[0,:,:,0])"
   ]
  },
  {
   "cell_type": "code",
   "execution_count": 126,
   "metadata": {},
   "outputs": [
    {
     "name": "stdout",
     "output_type": "stream",
     "text": [
      "[[-0.358285532471214 -0.3505229815218607 -0.34001708531084596 ...\n",
      "  0.5417167138883865 0.5367437860886213 0.5382331568365444]\n",
      " [-0.2988930213209048 0.4197194713441982 0.24950331674681286 ...\n",
      "  0.15755367666956507 0.03844862063633858 -0.10083280901707123]\n",
      " [0.8938355949347379 -1.3507116926769547 1.809613639212217 ...\n",
      "  -1.5053979497315904 1.1598941163340828 -0.8261716224896835]\n",
      " [-0.0 -0.0 1.6854 ... 0.5618 0.5618 0.5618]]\n",
      "imf_shape (4, 2048)\n",
      "train_Data.shape: (100, 512, 2048, 1)\n",
      "train_Data.shape: (100, 512, 2048, 1)\n",
      "train_Data.shape: (100, 512, 2048, 1)\n",
      "train_Data.shape: (100, 512, 2048, 1)\n",
      "train_Data.shape: (4, 100, 512, 2048, 1)\n"
     ]
    },
    {
     "data": {
      "text/plain": [
       "<matplotlib.image.AxesImage at 0x178dc6ae978>"
      ]
     },
     "execution_count": 126,
     "metadata": {},
     "output_type": "execute_result"
    },
    {
     "data": {
      "image/png": "[encoded data removed]",
      "text/plain": [
       "<Figure size 576x216 with 1 Axes>"
      ]
     },
     "metadata": {
      "needs_background": "light"
     },
     "output_type": "display_data"
    },
    {
     "data": {
      "image/png": "[encoded data removed]",
      "text/plain": [
       "<Figure size 576x216 with 1 Axes>"
      ]
     },
     "metadata": {
      "needs_background": "light"
     },
     "output_type": "display_data"
    }
   ],
   "source": [
    "train_Data2 = batch_construct(name='T2')\n",
    "img20_code = encoder0.predict(train_Data2[0].reshape(train_Data2.shape[1],train_Data2.shape[2],train_Data2.shape[3],1))\n",
    "fig = plt.figure(figsize=(8,3))\n",
    "plt.imshow(img20_code[0,:,:,0])\n",
    "\n",
    "img21_code = encoder0.predict(train_Data2[1].reshape(train_Data2.shape[1],train_Data2.shape[2],train_Data2.shape[3],1))\n",
    "fig = plt.figure(figsize=(8,3))\n",
    "plt.imshow(img21_code[0,:,:,0])"
   ]
  },
  {
   "cell_type": "code",
   "execution_count": 128,
   "metadata": {
    "collapsed": true
   },
   "outputs": [],
   "source": [
    "def imgcode_construct(name='norm'): \n",
    "    '''\n",
    "    提取原始数据，VMD分解后输出K+1维度的neck编码\n",
    "    '''\n",
    "    imf,imf_hat,omega= VMD_plot(plot=5,signal_name=name)\n",
    "    imf = imf.tolist()\n",
    "    imf.append(data[name])\n",
    "    imf = np.array(imf,dtype=object)\n",
    "    imf.shape\n",
    "    train_Data=[]\n",
    "    for k in range(4):\n",
    "        train_Data.append(construct_data(imf,k,0))\n",
    "    train_Data = np.array(train_Data)\n",
    "    print('train_Data.shape:',train_Data.shape)\n",
    "    img0_code = encoder0.predict(train_Data[0].reshape(100,512,2048,1))\n",
    "    img1_code = encoder1.predict(train_Data[1].reshape(100,512,2048,1))\n",
    "    img2_code = encoder2.predict(train_Data[2].reshape(100,512,2048,1))\n",
    "    img3_code = encoder3.predict(train_Data[3].reshape(100,512,2048,1)) #100,4,32,1\n",
    "    return img0_code,img1_code,img2_code,img3_code\n"
   ]
  },
  {
   "cell_type": "code",
   "execution_count": 129,
   "metadata": {},
   "outputs": [
    {
     "name": "stdout",
     "output_type": "stream",
     "text": [
      "train_Data.shape: (100, 512, 2048, 1)\n",
      "train_Data.shape: (100, 512, 2048, 1)\n",
      "train_Data.shape: (100, 512, 2048, 1)\n",
      "train_Data.shape: (100, 512, 2048, 1)\n",
      "train_Data.shape: (4, 100, 512, 2048, 1)\n",
      "train_Data.shape: (100, 512, 2048, 1)\n",
      "train_Data.shape: (100, 512, 2048, 1)\n",
      "train_Data.shape: (100, 512, 2048, 1)\n",
      "train_Data.shape: (100, 512, 2048, 1)\n",
      "train_Data.shape: (4, 100, 512, 2048, 1)\n",
      "train_Data.shape: (100, 512, 2048, 1)\n",
      "train_Data.shape: (100, 512, 2048, 1)\n",
      "train_Data.shape: (100, 512, 2048, 1)\n",
      "train_Data.shape: (100, 512, 2048, 1)\n",
      "train_Data.shape: (4, 100, 512, 2048, 1)\n",
      "train_Data.shape: (100, 512, 2048, 1)\n",
      "train_Data.shape: (100, 512, 2048, 1)\n",
      "train_Data.shape: (100, 512, 2048, 1)\n",
      "train_Data.shape: (100, 512, 2048, 1)\n",
      "train_Data.shape: (4, 100, 512, 2048, 1)\n",
      "train_Data.shape: (100, 512, 2048, 1)\n",
      "train_Data.shape: (100, 512, 2048, 1)\n",
      "train_Data.shape: (100, 512, 2048, 1)\n",
      "train_Data.shape: (100, 512, 2048, 1)\n",
      "train_Data.shape: (4, 100, 512, 2048, 1)\n"
     ]
    }
   ],
   "source": [
    "T1_code = imgcode_construct(name='norm') \n",
    "T2_code = imgcode_construct(name='T2')\n",
    "T3_code = imgcode_construct(name='T3')\n",
    "T4_code = imgcode_construct(name='T4')\n",
    "T5_code = imgcode_construct(name='T5')"
   ]
  },
  {
   "cell_type": "code",
   "execution_count": 130,
   "metadata": {},
   "outputs": [
    {
     "data": {
      "text/plain": [
       "(4, 100, 4, 32, 1)"
      ]
     },
     "execution_count": 130,
     "metadata": {},
     "output_type": "execute_result"
    }
   ],
   "source": [
    "np.array(T1_code).shape"
   ]
  },
  {
   "cell_type": "code",
   "execution_count": 131,
   "metadata": {
    "collapsed": true
   },
   "outputs": [],
   "source": [
    "def hist_scatter(T_code,bins=10):\n",
    "    '''\n",
    "    把 bottle neck 的编码转换成频次，可用于计算KL散度\n",
    "    '''\n",
    "    T_hist = []\n",
    "    T_code = np.array(T_code) #4,100,4,32,1\n",
    "    print('T_codeshape',T_code.shape)\n",
    "    for code in range(len(T_code)): #100,4,32,1\n",
    "        hist_count = []\n",
    "        for sample in range(len(T_code[code])): \n",
    "            hist_count_,_ = np.histogram(T_code[code][sample], bins=bins) #4,32,1——>binslen\n",
    "#             if sample==2:\n",
    "#                 print('10?:',len(hist_count_))\n",
    "            hist_count.append(hist_count_) #100,binlen=10\n",
    "#         print('T_hist:1,100,10——>4,100,10?',T_hist)\n",
    "        T_hist.append(hist_count) # 4,100,10\n",
    "    print('T_hist:',np.array(T_hist).shape) # 4,100,10\n",
    "    T_hist = np.array(T_hist)\n",
    "    return T_hist\n",
    "def KL_scatter(hist1,hist2):\n",
    "    '''\n",
    "    把两组频次转换成对应的KL散度\n",
    "    \n",
    "    '''\n",
    "    KL = []\n",
    "    for hz in range(len(hist1)):\n",
    "        KL_ = []\n",
    "        for KLhist in zip(hist1[hz],hist2[hz]):   #100,10\n",
    "            KL_.append([stats.entropy(KLhist[0],KLhist[1]), stats.entropy(KLhist[1],KLhist[0])]) #100,2\n",
    "        KL.append(KL_) # 4,100,2\n",
    "    KL = np.array(KL)\n",
    "    print('KLshape:',KL.shape)\n",
    "    return KL\n",
    "\n",
    "def klimf(name='norm'):\n",
    "    '''\n",
    "    对各样本计算出特征值 返回格式为sample,feature_num\n",
    "    '''\n",
    "    imf,_,_ = VMD_plot(4,signal_name=name)\n",
    "    imf = (MinMaxScaler().fit_transform(imf.swapaxes(0,1)).swapaxes(0,1))\n",
    "    _,sigma_,_ = np.linalg.svd(imf)\n",
    "    imf_ = []\n",
    "    sigma = []\n",
    "    imf_.append(imf)\n",
    "    sigma.append(sigma_)\n",
    "    for i in range(100-1):\n",
    "        imf__ = imf + np.random.uniform(size=(3,2048))/5\n",
    "        imf_.append(imf__)\n",
    "        _,sigma_,_ = np.linalg.svd(imf__)\n",
    "        sigma.append(sigma_)\n",
    "    print('imf_.shape,100,3,2048?',np.array(imf_).shape)\n",
    "    print('imf__.shape,3,2048?',np.array(imf__).shape)\n",
    "    print('sigma_.shape,fn?',sigma_)\n",
    "    print('sigma.shape,100,fn?',np.array(sigma).shape)\n",
    "    return np.array(sigma)\n",
    "    "
   ]
  },
  {
   "cell_type": "code",
   "execution_count": 132,
   "metadata": {},
   "outputs": [
    {
     "name": "stdout",
     "output_type": "stream",
     "text": [
      "T_codeshape (4, 100, 4, 32, 1)\n",
      "T_hist: (4, 100, 4)\n",
      "T_codeshape (4, 100, 4, 32, 1)\n",
      "T_hist: (4, 100, 4)\n",
      "T_codeshape (4, 100, 4, 32, 1)\n",
      "T_hist: (4, 100, 4)\n",
      "T_codeshape (4, 100, 4, 32, 1)\n",
      "T_hist: (4, 100, 4)\n",
      "T_codeshape (4, 100, 4, 32, 1)\n",
      "T_hist: (4, 100, 4)\n",
      "T_codeshape (4, 100, 4, 32, 1)\n",
      "T_hist: (4, 100, 4)\n"
     ]
    }
   ],
   "source": [
    "Bins=4\n",
    "shuffle_index = np.arange(100)+1\n",
    "shuffle_index[-1]=0\n",
    "T1_code_ =np.array(T1_code)[:,shuffle_index,:,:,:]\n",
    "T1HistCode_ = hist_scatter(T1_code_,bins=Bins)\n",
    "\n",
    "T1HistCode = hist_scatter(T1_code,bins=Bins)\n",
    "T2HistCode = hist_scatter(T2_code,bins=Bins)\n",
    "\n",
    "# plt.scatter(KLab(T1_code,img33_code)[:,0],KLab(img13_code,img33_code)[:,1])\n",
    "\n",
    "T3HistCode = hist_scatter(T3_code,bins=Bins)\n",
    "T4HistCode = hist_scatter(T4_code,bins=Bins)\n",
    "T5HistCode = hist_scatter(T5_code,bins=Bins)\n"
   ]
  },
  {
   "cell_type": "code",
   "execution_count": 133,
   "metadata": {},
   "outputs": [
    {
     "name": "stdout",
     "output_type": "stream",
     "text": [
      "KLshape: (1, 100, 2)\n",
      "KLshape: (1, 100, 2)\n",
      "KLshape: (1, 100, 2)\n",
      "KLshape: (1, 100, 2)\n",
      "KLshape: (1, 100, 2)\n"
     ]
    }
   ],
   "source": [
    "KL11 = KL_scatter(np.array(T1_code).swapaxes(0,1).reshape(1,100,-1)+0.001,np.array(T1_code_).swapaxes(0,1).reshape(1,100,-1)+0.001) # +0.01避免分母为0\n",
    "KL12 = KL_scatter(np.array(T1_code).swapaxes(0,1).reshape(1,100,-1)+0.001,np.array(T2_code).swapaxes(0,1).reshape(1,100,-1)+0.001)\n",
    "KL13 = KL_scatter(np.array(T1_code).swapaxes(0,1).reshape(1,100,-1)+0.001,np.array(T3_code).swapaxes(0,1).reshape(1,100,-1)+0.001)\n",
    "KL14 = KL_scatter(np.array(T1_code).swapaxes(0,1).reshape(1,100,-1)+0.001,np.array(T4_code).swapaxes(0,1).reshape(1,100,-1)+0.001)\n",
    "KL15 = KL_scatter(np.array(T1_code).swapaxes(0,1).reshape(1,100,-1)+0.001,np.array(T5_code).swapaxes(0,1).reshape(1,100,-1)+0.001)"
   ]
  },
  {
   "cell_type": "code",
   "execution_count": 145,
   "metadata": {},
   "outputs": [
    {
     "name": "stdout",
     "output_type": "stream",
     "text": [
      "imf_.shape,100,3,2048? (100, 3, 2048)\n",
      "imf__.shape,3,2048? (3, 2048)\n",
      "sigma_.shape,fn? [47.39078973  5.77535419  3.74750382]\n",
      "sigma.shape,100,fn? (100, 3)\n",
      "imf_.shape,100,3,2048? (100, 3, 2048)\n",
      "imf__.shape,3,2048? (3, 2048)\n",
      "sigma_.shape,fn? [47.83929654  8.10945131  4.70362732]\n",
      "sigma.shape,100,fn? (100, 3)\n",
      "imf_.shape,100,3,2048? (100, 3, 2048)\n",
      "imf__.shape,3,2048? (3, 2048)\n",
      "sigma_.shape,fn? [37.27136451  4.39577804  3.78602524]\n",
      "sigma.shape,100,fn? (100, 3)\n",
      "imf_.shape,100,3,2048? (100, 3, 2048)\n",
      "imf__.shape,3,2048? (3, 2048)\n",
      "sigma_.shape,fn? [44.70629205  5.16519845  3.82195607]\n",
      "sigma.shape,100,fn? (100, 3)\n",
      "imf_.shape,100,3,2048? (100, 3, 2048)\n",
      "imf__.shape,3,2048? (3, 2048)\n",
      "sigma_.shape,fn? [48.50357315  4.3681316   3.26360687]\n",
      "sigma.shape,100,fn? (100, 3)\n"
     ]
    }
   ],
   "source": [
    "sigmaT1 = klimf(name='norm')\n",
    "sigmaT2 = klimf(name='T2')\n",
    "sigmaT3 = klimf(name='T3')\n",
    "sigmaT4 = klimf(name='T4')\n",
    "sigmaT5 = klimf(name='T5')"
   ]
  },
  {
   "cell_type": "code",
   "execution_count": 146,
   "metadata": {
    "collapsed": true
   },
   "outputs": [],
   "source": [
    "sigmaT1 = (StandardScaler().fit_transform(sigmaT1.swapaxes(0,1))).swapaxes(0,1).reshape(1,100,3)\n",
    "sigmaT2 = (StandardScaler().fit_transform(sigmaT2.swapaxes(0,1))).swapaxes(0,1).reshape(1,100,3)\n",
    "sigmaT3 = (StandardScaler().fit_transform(sigmaT3.swapaxes(0,1))).swapaxes(0,1).reshape(1,100,3)\n",
    "sigmaT4 = (StandardScaler().fit_transform(sigmaT4.swapaxes(0,1))).swapaxes(0,1).reshape(1,100,3)\n",
    "sigmaT5 = (StandardScaler().fit_transform(sigmaT5.swapaxes(0,1))).swapaxes(0,1).reshape(1,100,3)\n",
    "sigmaT1_ = sigmaT1[:,shuffle_index,:]"
   ]
  },
  {
   "cell_type": "code",
   "execution_count": 152,
   "metadata": {},
   "outputs": [
    {
     "name": "stdout",
     "output_type": "stream",
     "text": [
      "KLshape: (1, 100, 2)\n",
      "KLshape: (1, 100, 2)\n",
      "KLshape: (1, 100, 2)\n",
      "KLshape: (1, 100, 2)\n",
      "KLshape: (1, 100, 2)\n"
     ]
    }
   ],
   "source": [
    "Kl11 = KL_scatter(np.exp(sigmaT1),np.exp(sigmaT1_)) #取np.exp是因为归一化以后sigmaT1存在非正数\n",
    "Kl12 = KL_scatter(np.exp(sigmaT1),np.exp(sigmaT2))\n",
    "Kl13 = KL_scatter(np.exp(sigmaT1),np.exp(sigmaT3))\n",
    "Kl14 = KL_scatter(np.exp(sigmaT1),np.exp(sigmaT4))\n",
    "Kl15 = KL_scatter(np.exp(sigmaT1),np.exp(sigmaT5))"
   ]
  },
  {
   "cell_type": "code",
   "execution_count": 160,
   "metadata": {},
   "outputs": [
    {
     "data": {
      "text/plain": [
       "<matplotlib.legend.Legend at 0x178e1c71b00>"
      ]
     },
     "execution_count": 160,
     "metadata": {},
     "output_type": "execute_result"
    },
    {
     "data": {
      "image/png": "[encoded data removed]",
      "text/plain": [
       "<Figure size 432x216 with 1 Axes>"
      ]
     },
     "metadata": {
      "needs_background": "light"
     },
     "output_type": "display_data"
    }
   ],
   "source": [
    "plt.figure(figsize=(6,3))\n",
    "plt.scatter(KL11[0,:,1],Kl11[0,:,1]*10000,label='T1')\n",
    "plt.scatter(KL12[0,:,1],Kl12[0,:,1]*10000,label='T2')\n",
    "plt.scatter(KL13[0,:,1],Kl13[0,:,1]*10000,label='T3')\n",
    "plt.scatter(KL14[0,:,1],Kl14[0,:,1]*10000,label='T4')\n",
    "plt.scatter(KL15[0,:,1],Kl15[0,:,1]*10000,label='T5')\n",
    "plt.xlabel('KL') # KL是基于特征图的散度（分母取T1）\n",
    "plt.ylabel('Kl') # Kl是基于特征值的散度（分母取T1）\n",
    "plt.legend()\n"
   ]
  },
  {
   "cell_type": "markdown",
   "metadata": {},
   "source": [
    "看起来区分效果比较明显。每类，一百个样本很好的聚集在一起，\n",
    "其中每一类信号的一百个样本都是通过随机添加8%最大幅度的噪声生成\n",
    " "
   ]
  }
 ],
 "metadata": {
  "kernelspec": {
   "display_name": "tf_gpu_",
   "language": "python",
   "name": "tf_gpu_"
  },
  "language_info": {
   "codemirror_mode": {
    "name": "ipython",
    "version": 3
   },
   "file_extension": ".py",
   "mimetype": "text/x-python",
   "name": "python",
   "nbconvert_exporter": "python",
   "pygments_lexer": "ipython3",
   "version": "3.7.1"
  }
 },
 "nbformat": 4,
 "nbformat_minor": 2
}
